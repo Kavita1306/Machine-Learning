{
 "cells": [
  {
   "cell_type": "code",
   "execution_count": 1,
   "id": "b58aad21",
   "metadata": {},
   "outputs": [],
   "source": [
    "import re\n"
   ]
  },
  {
   "cell_type": "code",
   "execution_count": 2,
   "id": "bb9214d6",
   "metadata": {},
   "outputs": [],
   "source": [
    "def extract_letters(text):\n",
    "    # Use regular expression to extract letters\n",
    "    letters = re.findall(r'[a-zA-Z]', text)\n",
    "    return letters\n"
   ]
  },
  {
   "cell_type": "code",
   "execution_count": 3,
   "id": "89c8e817",
   "metadata": {},
   "outputs": [],
   "source": [
    "def extract_words(text):\n",
    "    # Split the text into words using whitespace as a separator\n",
    "    words = text.split()\n",
    "    return words\n"
   ]
  },
  {
   "cell_type": "code",
   "execution_count": 4,
   "id": "ece0f178",
   "metadata": {},
   "outputs": [],
   "source": [
    "def extract_sentences(text):\n",
    "    # Split the text into sentences using punctuation marks as delimiters\n",
    "    sentences = re.split(r'(?<=[.!?])\\s', text)\n",
    "    return sentences\n"
   ]
  },
  {
   "cell_type": "code",
   "execution_count": 9,
   "id": "a3ee7b69",
   "metadata": {},
   "outputs": [
    {
     "name": "stdout",
     "output_type": "stream",
     "text": [
      "Letters: ['M', 'a', 'c', 'h', 'i', 'n', 'e', 'l', 'e', 'a', 'r', 'n', 'i', 'n', 'g', 'M', 'L', 'i', 's', 'a', 's', 'u', 'b', 'd', 'o', 'm', 'a', 'i', 'n', 'o', 'f', 'a', 'r', 't', 'i', 'f', 'i', 'c', 'i', 'a', 'l', 'i', 'n', 't', 'e', 'l', 'l', 'i', 'g', 'e', 'n', 'c', 'e', 'A', 'I', 't', 'h', 'a', 't', 'f', 'o', 'c', 'u', 's', 'e', 's', 'o', 'n', 'd', 'e', 'v', 'e', 'l', 'o', 'p', 'i', 'n', 'g', 's', 'y', 's', 't', 'e', 'm', 's', 't', 'h', 'a', 't', 'l', 'e', 'a', 'r', 'n', 'o', 'r', 'i', 'm', 'p', 'r', 'o', 'v', 'e', 'p', 'e', 'r', 'f', 'o', 'r', 'm', 'a', 'n', 'c', 'e', 'b', 'a', 's', 'e', 'd', 'o', 'n', 't', 'h', 'e', 'd', 'a', 't', 'a', 't', 'h', 'e', 'y', 'i', 'n', 'g', 'e', 's', 't']\n"
     ]
    }
   ],
   "source": [
    "# Sample data\n",
    "data = \"Machine learning (ML) is a subdomain of artificial intelligence (AI) that focuses on developing systems that learn—or improve performance—based on the data they ingest.  \"\n",
    "\n",
    "# Extract letters\n",
    "letters = extract_letters(data)\n",
    "print(\"Letters:\", letters)\n",
    "\n"
   ]
  },
  {
   "cell_type": "code",
   "execution_count": 10,
   "id": "d3f6ce7d",
   "metadata": {},
   "outputs": [
    {
     "name": "stdout",
     "output_type": "stream",
     "text": [
      "Words: ['Machine', 'learning', '(ML)', 'is', 'a', 'subdomain', 'of', 'artificial', 'intelligence', '(AI)', 'that', 'focuses', 'on', 'developing', 'systems', 'that', 'learn—or', 'improve', 'performance—based', 'on', 'the', 'data', 'they', 'ingest.']\n"
     ]
    }
   ],
   "source": [
    "# Extract words\n",
    "words = extract_words(data)\n",
    "print(\"Words:\", words)\n"
   ]
  },
  {
   "cell_type": "code",
   "execution_count": 11,
   "id": "52ec25a4",
   "metadata": {},
   "outputs": [
    {
     "name": "stdout",
     "output_type": "stream",
     "text": [
      "Sentences:\n",
      "  1. Machine learning (ML) is a subdomain of artificial intelligence (AI) that focuses on developing systems that learn—or improve performance—based on the data they ingest.\n",
      "  2.  \n"
     ]
    }
   ],
   "source": [
    "# Extract sentences\n",
    "sentences = extract_sentences(data)\n",
    "print(\"Sentences:\")\n",
    "for i, sentence in enumerate(sentences, 1):\n",
    "    print(f\"  {i}. {sentence}\")"
   ]
  }
 ],
 "metadata": {
  "kernelspec": {
   "display_name": "Python 3 (ipykernel)",
   "language": "python",
   "name": "python3"
  },
  "language_info": {
   "codemirror_mode": {
    "name": "ipython",
    "version": 3
   },
   "file_extension": ".py",
   "mimetype": "text/x-python",
   "name": "python",
   "nbconvert_exporter": "python",
   "pygments_lexer": "ipython3",
   "version": "3.11.3"
  }
 },
 "nbformat": 4,
 "nbformat_minor": 5
}
