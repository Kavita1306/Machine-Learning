{
 "cells": [
  {
   "cell_type": "code",
   "execution_count": 15,
   "id": "ee0f11d0",
   "metadata": {},
   "outputs": [],
   "source": [
    "import re\n"
   ]
  },
  {
   "cell_type": "code",
   "execution_count": 31,
   "id": "6331a083",
   "metadata": {},
   "outputs": [],
   "source": [
    "dataset = \"\"\"\n",
    "Kavita: Kavita.doe@example.com, 123-456-7890\n",
    "Pallavi: pallv.rawat@email.com, 9876543210\n",
    "Ram: ram.singh@email.co.uk, (111) 111-1111\n",
    "Dev: dev.kumar@email.com\n",
    "\"\"\"\n"
   ]
  },
  {
   "cell_type": "code",
   "execution_count": 32,
   "id": "1bf5f294",
   "metadata": {},
   "outputs": [],
   "source": [
    "# Regular expressions for matching email addresses and mobile numbers\n",
    "email_pattern = r'\\b[A-Za-z0-9._%+-]+@[A-Za-z0-9.-]+\\.[A-Z|a-z]{2,7}\\b'\n",
    "mobile_pattern = r'\\b\\d{3}[-.\\s]?\\d{3}[-.\\s]?\\d{4}\\b'\n"
   ]
  },
  {
   "cell_type": "code",
   "execution_count": 33,
   "id": "83ba4706",
   "metadata": {},
   "outputs": [],
   "source": [
    "# Find and print email addresses and mobile numbers in the dataset\n",
    "emails = re.findall(email_pattern, dataset)\n",
    "mobiles = re.findall(mobile_pattern, dataset)\n",
    "\n"
   ]
  },
  {
   "cell_type": "code",
   "execution_count": 34,
   "id": "1204e22b",
   "metadata": {},
   "outputs": [
    {
     "name": "stdout",
     "output_type": "stream",
     "text": [
      "Email addresses found:\n",
      "Kavita.doe@example.com\n",
      "pallv.rawat@email.com\n",
      "ram.singh@email.co.uk\n",
      "dev.kumar@email.com\n"
     ]
    }
   ],
   "source": [
    "if emails:\n",
    "    print(\"Email addresses found:\")\n",
    "    for email in emails:\n",
    "        print(email)\n",
    "\n"
   ]
  },
  {
   "cell_type": "code",
   "execution_count": 35,
   "id": "b2cea444",
   "metadata": {},
   "outputs": [
    {
     "name": "stdout",
     "output_type": "stream",
     "text": [
      "Mobile numbers found:\n",
      "123-456-7890\n",
      "9876543210\n"
     ]
    }
   ],
   "source": [
    "if mobiles:\n",
    "    print(\"Mobile numbers found:\")\n",
    "    for mobile in mobiles:\n",
    "        print(mobile)\n",
    "    "
   ]
  },
  {
   "cell_type": "code",
   "execution_count": null,
   "id": "ffd09ae6",
   "metadata": {},
   "outputs": [],
   "source": []
  }
 ],
 "metadata": {
  "kernelspec": {
   "display_name": "Python 3 (ipykernel)",
   "language": "python",
   "name": "python3"
  },
  "language_info": {
   "codemirror_mode": {
    "name": "ipython",
    "version": 3
   },
   "file_extension": ".py",
   "mimetype": "text/x-python",
   "name": "python",
   "nbconvert_exporter": "python",
   "pygments_lexer": "ipython3",
   "version": "3.11.3"
  }
 },
 "nbformat": 4,
 "nbformat_minor": 5
}
