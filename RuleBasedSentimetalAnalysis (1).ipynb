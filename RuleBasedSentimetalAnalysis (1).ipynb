{
 "cells": [
  {
   "cell_type": "markdown",
   "id": "4be0bdfd-e6c9-43e7-834d-9af6a54f2039",
   "metadata": {},
   "source": [
    "# Rule Based Sentimental Analysis "
   ]
  },
  {
   "cell_type": "markdown",
   "id": "f2d05cc6-49a5-46d5-8f1b-5391371a3bad",
   "metadata": {},
   "source": [
    "* Rule-based is one of the oldest NLP methods started in 1950’s but it is still used \n",
    "* It uses predefined linguistic and regular expression to analyze and process textual data \n",
    "* **Lexical analysis**: This involves breaking down text into individual words or tokens. Rules are applied to  identify parts of speech, such as nouns, verbs, adjectives, and so on. Tokenization and stemming are common  tasks in this stage.* \n"
   ]
  },
  {
   "cell_type": "markdown",
   "id": "827ecda7-aa9e-4998-ad40-02af20ba370e",
   "metadata": {},
   "source": [
    "## VADER (Valence Aware Dictionary and sEntiment Reasoner) is a lexicon and rule-based sentiment analysis tool "
   ]
  },
  {
   "cell_type": "markdown",
   "id": "eac07ef2-4bf9-4876-9bce-aaf919549b7c",
   "metadata": {},
   "source": [
    "* The VADER sentiment analysis tool is pre-trained with a sentiment lexicon that contains a list of words, along with their associated sentiment scores."
   ]
  },
  {
   "cell_type": "markdown",
   "id": "20a96c0a-0df3-40c3-8eb7-2d2436f6dc92",
   "metadata": {},
   "source": [
    "* A lexicon is a collection or dictionary of words, terms, or vocabulary in a particular language, domain, or field\n",
    "\n",
    "* It provides information about these words, including their meanings, definitions, pronunciation, part of speech, and other linguistic properties. "
   ]
  },
  {
   "cell_type": "markdown",
   "id": "d49f4cc2-e97d-4e40-9861-f43253000ac3",
   "metadata": {},
   "source": [
    "* Positive scores indicating positive sentiment\n",
    "* Negative scores indicating negative sentiment\n",
    "* Scores near zero indicating neutrality. \n",
    "* A compound score, which represents the overall sentiment of the text on a scale from -1 (extremely negative) to 1 (extremely positive)."
   ]
  },
  {
   "cell_type": "code",
   "execution_count": 2,
   "id": "157f86b7-d85d-4fc8-bbe0-f97125fcfd6a",
   "metadata": {},
   "outputs": [
    {
     "name": "stdout",
     "output_type": "stream",
     "text": [
      "Sentiment Scores: {'neg': 0.0, 'neu': 0.266, 'pos': 0.734, 'compound': 0.8516}\n",
      "Sentiment: positive\n"
     ]
    },
    {
     "name": "stderr",
     "output_type": "stream",
     "text": [
      "[nltk_data] Downloading package vader_lexicon to\n",
      "[nltk_data]     C:\\Users\\Dell\\AppData\\Roaming\\nltk_data...\n",
      "[nltk_data]   Package vader_lexicon is already up-to-date!\n"
     ]
    }
   ],
   "source": [
    "import nltk\n",
    "from nltk.sentiment.vader import SentimentIntensityAnalyzer\n",
    "\n",
    "# Download the VADER lexicon and initialize the sentiment analyzer\n",
    "nltk.download('vader_lexicon')\n",
    "analyzer = SentimentIntensityAnalyzer()\n",
    "\n",
    "# Sample text for sentiment analysis\n",
    "text = \"I love this product! It's amazing.\"\n",
    "\n",
    "# Get sentiment scores\n",
    "sentiment_scores = analyzer.polarity_scores(text)\n",
    "\n",
    "# Interpret the sentiment scores\n",
    "compound_score = sentiment_scores['compound']\n",
    "\n",
    "if compound_score >= 0.05:\n",
    "    sentiment = 'positive'\n",
    "elif compound_score > -0.05 and compound_score < 0.05:\n",
    "    sentiment = 'neutral'\n",
    "else:\n",
    "    sentiment = 'negative'\n",
    "\n",
    "# Print the sentiment scores and the interpreted sentiment\n",
    "print(\"Sentiment Scores:\", sentiment_scores)\n",
    "print(\"Sentiment:\", sentiment)"
   ]
  },
  {
   "cell_type": "code",
   "execution_count": null,
   "id": "18a80358-2aa9-443a-b473-46d0e9f3cac7",
   "metadata": {},
   "outputs": [],
   "source": []
  }
 ],
 "metadata": {
  "kernelspec": {
   "display_name": "Python 3 (ipykernel)",
   "language": "python",
   "name": "python3"
  },
  "language_info": {
   "codemirror_mode": {
    "name": "ipython",
    "version": 3
   },
   "file_extension": ".py",
   "mimetype": "text/x-python",
   "name": "python",
   "nbconvert_exporter": "python",
   "pygments_lexer": "ipython3",
   "version": "3.11.4"
  }
 },
 "nbformat": 4,
 "nbformat_minor": 5
}
